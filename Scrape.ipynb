{
 "cells": [
  {
   "cell_type": "code",
   "execution_count": 1,
   "metadata": {},
   "outputs": [],
   "source": [
    "#Importing impotant libraries\n",
    "from bs4 import BeautifulSoup\n",
    "from urllib.request import urlopen as url "
   ]
  },
  {
   "cell_type": "code",
   "execution_count": 2,
   "metadata": {},
   "outputs": [],
   "source": [
    "import json\n",
    "import numpy as np"
   ]
  },
  {
   "cell_type": "code",
   "execution_count": 3,
   "metadata": {},
   "outputs": [
    {
     "data": {
      "text/plain": [
       "array([0, 1, 2, 3, 4, 5, 6, 7, 8, 9])"
      ]
     },
     "execution_count": 3,
     "metadata": {},
     "output_type": "execute_result"
    }
   ],
   "source": [
    "#creating .json file\n",
    "json_file=open('s_result.json','w')\n",
    "pages=np.arange(0,10,1)\n",
    "pages"
   ]
  },
  {
   "cell_type": "code",
   "execution_count": 5,
   "metadata": {},
   "outputs": [
    {
     "name": "stdout",
     "output_type": "stream",
     "text": [
      "0\n",
      "1\n",
      "2\n",
      "3\n",
      "4\n",
      "5\n",
      "6\n",
      "7\n",
      "8\n",
      "9\n"
     ]
    }
   ],
   "source": [
    "for p in pages: #iterating trough different pages to get the first 100 links\n",
    "    print(p)\n",
    "    l=\"https://news.un.org/en/news/region/middle-east\"+\"?page=\"+str(p)\n",
    "    page= url(l)\n",
    "    page_html=page.read()\n",
    "    page.close()\n",
    "    page_soup=BeautifulSoup(page_html,\"html.parser\")\n",
    "    container=page_soup.findAll(\"div\",{'class':'body-wrapper'})\n",
    "    count=0\n",
    "    for part in container: #reading different containers in the pge  \n",
    "        count+=1\n",
    "        while count<=10:\n",
    "            title=part.findAll('h1',{'class':'story-title'}) #reading the title\n",
    "            title_t=title[0].text #getting only the text\n",
    "            link=part.div.a['href'] #getting the link to news\n",
    "            summary=part.findAll('div',{'class':'news-body'})\n",
    "            summary_t=summary[0].text\n",
    "            data_tuple=(title_t,link,summary_t) #creating a tuple with the data\n",
    "            json.dump(data_tuple,json_file,indent=2) #dumping the tuple to .json file\n",
    "            break\n",
    "    \n",
    "#"
   ]
  },
  {
   "cell_type": "code",
   "execution_count": 6,
   "metadata": {},
   "outputs": [],
   "source": [
    "json_file.close()"
   ]
  },
  {
   "cell_type": "code",
   "execution_count": null,
   "metadata": {},
   "outputs": [],
   "source": []
  },
  {
   "cell_type": "code",
   "execution_count": 127,
   "metadata": {},
   "outputs": [],
   "source": []
  },
  {
   "cell_type": "code",
   "execution_count": null,
   "metadata": {},
   "outputs": [],
   "source": []
  }
 ],
 "metadata": {
  "kernelspec": {
   "display_name": "Python 3",
   "language": "python",
   "name": "python3"
  },
  "language_info": {
   "codemirror_mode": {
    "name": "ipython",
    "version": 3
   },
   "file_extension": ".py",
   "mimetype": "text/x-python",
   "name": "python",
   "nbconvert_exporter": "python",
   "pygments_lexer": "ipython3",
   "version": "3.7.6"
  }
 },
 "nbformat": 4,
 "nbformat_minor": 4
}
